{
 "cells": [
  {
   "cell_type": "markdown",
   "id": "91078fc6",
   "metadata": {},
   "source": [
    "# Funções"
   ]
  },
  {
   "cell_type": "code",
   "execution_count": 1,
   "id": "1aa7477e",
   "metadata": {},
   "outputs": [],
   "source": [
    "def my_print(message = \"My default message\"): # Parametros default (padrão)\n",
    "    print(message)"
   ]
  },
  {
   "cell_type": "code",
   "execution_count": 2,
   "id": "aab1759c",
   "metadata": {},
   "outputs": [
    {
     "name": "stdout",
     "output_type": "stream",
     "text": [
      "My default message\n",
      "Hello\n"
     ]
    }
   ],
   "source": [
    "my_print()\n",
    "my_print(\"Hello\")"
   ]
  },
  {
   "cell_type": "code",
   "execution_count": 3,
   "id": "da2477fa",
   "metadata": {},
   "outputs": [
    {
     "data": {
      "text/plain": [
       "8"
      ]
     },
     "execution_count": 3,
     "metadata": {},
     "output_type": "execute_result"
    }
   ],
   "source": [
    "# Lambdas funções anônimas que podem ser atribuidas a variáveis, embora não recomendado\n",
    "\n",
    "another_double = lambda x: 2 * x # não faça isso\n",
    "\n",
    "another_double(4)"
   ]
  },
  {
   "cell_type": "code",
   "execution_count": 4,
   "id": "3e5bbf53",
   "metadata": {},
   "outputs": [
    {
     "data": {
      "text/plain": [
       "8"
      ]
     },
     "execution_count": 4,
     "metadata": {},
     "output_type": "execute_result"
    }
   ],
   "source": [
    "# faça isso\n",
    "\n",
    "def another_double (x):\n",
    "    return 2 * x\n",
    "another_double(4)"
   ]
  },
  {
   "cell_type": "markdown",
   "id": "2116f7cf",
   "metadata": {},
   "source": [
    "# Strings"
   ]
  },
  {
   "cell_type": "code",
   "execution_count": 5,
   "id": "bf2bde7c",
   "metadata": {},
   "outputs": [],
   "source": [
    "# Strings podem ser delimitadas por aspas simples ou duplas\n",
    "\n",
    "single = 'data science'\n",
    "double = \"data science\""
   ]
  },
  {
   "cell_type": "code",
   "execution_count": 6,
   "id": "c977c7c1",
   "metadata": {},
   "outputs": [
    {
     "data": {
      "text/plain": [
       "1"
      ]
     },
     "execution_count": 6,
     "metadata": {},
     "output_type": "execute_result"
    }
   ],
   "source": [
    "tab_string = \"\\t\" # tecla tab do teclado\n",
    "len(tab_string) "
   ]
  },
  {
   "cell_type": "code",
   "execution_count": 7,
   "id": "0ce7d81e",
   "metadata": {},
   "outputs": [
    {
     "data": {
      "text/plain": [
       "2"
      ]
     },
     "execution_count": 7,
     "metadata": {},
     "output_type": "execute_result"
    }
   ],
   "source": [
    "# Para usar esses caracteres na forma bruta\n",
    "\n",
    "not_tab_string = r\"\\t\"\n",
    "len(not_tab_string)"
   ]
  },
  {
   "cell_type": "code",
   "execution_count": 8,
   "id": "2ed33c9a",
   "metadata": {},
   "outputs": [
    {
     "name": "stdout",
     "output_type": "stream",
     "text": [
      "Primeira linha,\n",
      "segunda linha e \n",
      "terceira linha\n",
      "\n"
     ]
    }
   ],
   "source": [
    "# Criando strings de várias linhas\n",
    "multi_line_string = \"\"\"Primeira linha,\n",
    "segunda linha e \n",
    "terceira linha\n",
    "\"\"\"\n",
    "\n",
    "print(multi_line_string)"
   ]
  },
  {
   "cell_type": "code",
   "execution_count": 9,
   "id": "c1efb6f9",
   "metadata": {},
   "outputs": [
    {
     "data": {
      "text/plain": [
       "'Ola Hugo Mendes'"
      ]
     },
     "execution_count": 9,
     "metadata": {},
     "output_type": "execute_result"
    }
   ],
   "source": [
    "# f-string\n",
    "\n",
    "first_name = \"Hugo\"\n",
    "last_name = \"Mendes\"\n",
    "\n",
    "f\"Ola {first_name} {last_name}\""
   ]
  },
  {
   "cell_type": "markdown",
   "id": "a3bd5746",
   "metadata": {},
   "source": [
    "# Exceções"
   ]
  },
  {
   "cell_type": "code",
   "execution_count": 10,
   "id": "27aa3550",
   "metadata": {},
   "outputs": [
    {
     "name": "stdout",
     "output_type": "stream",
     "text": [
      "division by zero\n"
     ]
    }
   ],
   "source": [
    "try:\n",
    "    print(0/0)\n",
    "except Exception as er:\n",
    "    print(er)"
   ]
  },
  {
   "cell_type": "code",
   "execution_count": 11,
   "id": "ab66d1dc",
   "metadata": {},
   "outputs": [
    {
     "name": "stdout",
     "output_type": "stream",
     "text": [
      "4.0\n",
      "Deu certo\n",
      "Ok\n"
     ]
    }
   ],
   "source": [
    "try:\n",
    "    print(12/3)\n",
    "except Exception as er:\n",
    "    print(er)\n",
    "else:\n",
    "    print(\"Deu certo\")\n",
    "finally:\n",
    "    print(\"Ok\")"
   ]
  },
  {
   "cell_type": "code",
   "execution_count": 12,
   "id": "ec57a633",
   "metadata": {},
   "outputs": [],
   "source": [
    "# try tenta executar alguma ação\n",
    "# except executa uma ação caso o try falhe\n",
    "# else executa uma ação caso o try funcione\n",
    "# finally executa em todos os casos de falha ou sucesso"
   ]
  },
  {
   "cell_type": "markdown",
   "id": "33577796",
   "metadata": {},
   "source": [
    "# Listas"
   ]
  },
  {
   "cell_type": "code",
   "execution_count": 13,
   "id": "67f54417",
   "metadata": {},
   "outputs": [],
   "source": [
    "integer_list = [1,2,3]\n",
    "list_of_list = [\"Hugo\",integer_list, []]"
   ]
  },
  {
   "cell_type": "code",
   "execution_count": 14,
   "id": "8c922c7c",
   "metadata": {},
   "outputs": [
    {
     "data": {
      "text/plain": [
       "3"
      ]
     },
     "execution_count": 14,
     "metadata": {},
     "output_type": "execute_result"
    }
   ],
   "source": [
    "len(integer_list)"
   ]
  },
  {
   "cell_type": "code",
   "execution_count": 15,
   "id": "f2b1b99e",
   "metadata": {},
   "outputs": [
    {
     "data": {
      "text/plain": [
       "6"
      ]
     },
     "execution_count": 15,
     "metadata": {},
     "output_type": "execute_result"
    }
   ],
   "source": [
    "sum(integer_list)"
   ]
  },
  {
   "cell_type": "code",
   "execution_count": 16,
   "id": "b3a7be1c",
   "metadata": {},
   "outputs": [
    {
     "data": {
      "text/plain": [
       "(0, 1)"
      ]
     },
     "execution_count": 16,
     "metadata": {},
     "output_type": "execute_result"
    }
   ],
   "source": [
    "# indexação em python começa em 0\n",
    "\n",
    "x = [0,1,2,3,4,5,6,7,8,9]\n",
    "\n",
    "zero = x[0]\n",
    "one = x[1]\n",
    "\n",
    "zero, one"
   ]
  },
  {
   "cell_type": "code",
   "execution_count": 17,
   "id": "75ce1c56",
   "metadata": {},
   "outputs": [
    {
     "data": {
      "text/plain": [
       "(9, 8)"
      ]
     },
     "execution_count": 17,
     "metadata": {},
     "output_type": "execute_result"
    }
   ],
   "source": [
    "# pode usar indexação negativa para pegar elementos de trás pra frente\n",
    "\n",
    "nine = x[-1]\n",
    "eight = x[-2]\n",
    "\n",
    "nine, eight"
   ]
  },
  {
   "cell_type": "code",
   "execution_count": 18,
   "id": "d60355cd",
   "metadata": {},
   "outputs": [
    {
     "data": {
      "text/plain": [
       "[12, 1, 2, 3, 4, 5, 6, 7, 8, 9]"
      ]
     },
     "execution_count": 18,
     "metadata": {},
     "output_type": "execute_result"
    }
   ],
   "source": [
    "# atribuição de novo valor em um indice\n",
    "\n",
    "x[0] = 12\n",
    "x"
   ]
  },
  {
   "cell_type": "code",
   "execution_count": 19,
   "id": "54b3a626",
   "metadata": {},
   "outputs": [],
   "source": [
    "# fatiamento\n",
    "# [inclusivo:exclusivo]"
   ]
  },
  {
   "cell_type": "code",
   "execution_count": 20,
   "id": "323bc86a",
   "metadata": {},
   "outputs": [
    {
     "data": {
      "text/plain": [
       "[1, 2, 3, 4, 5, 6, 7, 8]"
      ]
     },
     "execution_count": 20,
     "metadata": {},
     "output_type": "execute_result"
    }
   ],
   "source": [
    "x[1:9]"
   ]
  },
  {
   "cell_type": "code",
   "execution_count": 21,
   "id": "036c88d1",
   "metadata": {},
   "outputs": [
    {
     "data": {
      "text/plain": [
       "[4, 5, 6]"
      ]
     },
     "execution_count": 21,
     "metadata": {},
     "output_type": "execute_result"
    }
   ],
   "source": [
    "x[4:-3]"
   ]
  },
  {
   "cell_type": "code",
   "execution_count": 22,
   "id": "af7420a3",
   "metadata": {},
   "outputs": [
    {
     "data": {
      "text/plain": [
       "[6, 7, 8, 9]"
      ]
     },
     "execution_count": 22,
     "metadata": {},
     "output_type": "execute_result"
    }
   ],
   "source": [
    "x[-4:]"
   ]
  },
  {
   "cell_type": "code",
   "execution_count": 23,
   "id": "b91426d2",
   "metadata": {},
   "outputs": [
    {
     "data": {
      "text/plain": [
       "[12, 1, 2, 3, 4, 5, 6, 7, 8, 9]"
      ]
     },
     "execution_count": 23,
     "metadata": {},
     "output_type": "execute_result"
    }
   ],
   "source": [
    "x[:]"
   ]
  },
  {
   "cell_type": "code",
   "execution_count": 24,
   "id": "2187841b",
   "metadata": {},
   "outputs": [
    {
     "data": {
      "text/plain": [
       "True"
      ]
     },
     "execution_count": 24,
     "metadata": {},
     "output_type": "execute_result"
    }
   ],
   "source": [
    "# operador in\n",
    "\n",
    "12 in x"
   ]
  },
  {
   "cell_type": "code",
   "execution_count": 25,
   "id": "54733c46",
   "metadata": {},
   "outputs": [
    {
     "data": {
      "text/plain": [
       "True"
      ]
     },
     "execution_count": 25,
     "metadata": {},
     "output_type": "execute_result"
    }
   ],
   "source": [
    "1 in [1,2,5,8]"
   ]
  },
  {
   "cell_type": "code",
   "execution_count": 26,
   "id": "fbef489b",
   "metadata": {},
   "outputs": [
    {
     "data": {
      "text/plain": [
       "False"
      ]
     },
     "execution_count": 26,
     "metadata": {},
     "output_type": "execute_result"
    }
   ],
   "source": [
    "0 in [1,2,5,8]"
   ]
  },
  {
   "cell_type": "code",
   "execution_count": 27,
   "id": "8b0fc66e",
   "metadata": {},
   "outputs": [
    {
     "data": {
      "text/plain": [
       "[12, 1, 2, 3, 4, 5, 6, 7, 8, 9, 13, 14, 15]"
      ]
     },
     "execution_count": 27,
     "metadata": {},
     "output_type": "execute_result"
    }
   ],
   "source": [
    "# extender listas\n",
    "x.extend([13,14,15])\n",
    "x"
   ]
  },
  {
   "cell_type": "code",
   "execution_count": 28,
   "id": "de34866b",
   "metadata": {},
   "outputs": [
    {
     "data": {
      "text/plain": [
       "[12, 1, 2, 3, 4, 5, 6, 7, 8, 9, 13, 14, 15, 16, 17, 18]"
      ]
     },
     "execution_count": 28,
     "metadata": {},
     "output_type": "execute_result"
    }
   ],
   "source": [
    "# se não quiser modificar x, apenas concatene\n",
    "\n",
    "y = x + [16,17,18]\n",
    "\n",
    "y"
   ]
  },
  {
   "cell_type": "code",
   "execution_count": 29,
   "id": "94c3d0dd",
   "metadata": {},
   "outputs": [
    {
     "data": {
      "text/plain": [
       "[12, 1, 2, 3, 4, 5, 6, 7, 8, 9, 13, 14, 15]"
      ]
     },
     "execution_count": 29,
     "metadata": {},
     "output_type": "execute_result"
    }
   ],
   "source": [
    "x # não mudou"
   ]
  },
  {
   "cell_type": "code",
   "execution_count": 30,
   "id": "87d4fa9f",
   "metadata": {},
   "outputs": [
    {
     "data": {
      "text/plain": [
       "[1, 2, 3, 0]"
      ]
     },
     "execution_count": 30,
     "metadata": {},
     "output_type": "execute_result"
    }
   ],
   "source": [
    "# adicionando novos elementos\n",
    "x = [1,2,3]\n",
    "x.append(0)\n",
    "x "
   ]
  },
  {
   "cell_type": "code",
   "execution_count": 31,
   "id": "b747a0cc",
   "metadata": {},
   "outputs": [
    {
     "data": {
      "text/plain": [
       "(1, 2)"
      ]
     },
     "execution_count": 31,
     "metadata": {},
     "output_type": "execute_result"
    }
   ],
   "source": [
    "# descompactando\n",
    "x, y = [1,2]\n",
    "x,y"
   ]
  },
  {
   "cell_type": "markdown",
   "id": "b8f63eed",
   "metadata": {},
   "source": [
    "# Tuplas"
   ]
  },
  {
   "cell_type": "code",
   "execution_count": 32,
   "id": "ab0535af",
   "metadata": {},
   "outputs": [
    {
     "data": {
      "text/plain": [
       "[1, 3]"
      ]
     },
     "execution_count": 32,
     "metadata": {},
     "output_type": "execute_result"
    }
   ],
   "source": [
    "# estrutura imutável\n",
    "my_list = [1,2]\n",
    "my_tuple = (1,2)\n",
    "my_list[1] = 3\n",
    "my_list"
   ]
  },
  {
   "cell_type": "code",
   "execution_count": 33,
   "id": "94b525f1",
   "metadata": {},
   "outputs": [
    {
     "name": "stdout",
     "output_type": "stream",
     "text": [
      "'tuple' object does not support item assignment\n"
     ]
    }
   ],
   "source": [
    "try:\n",
    "    my_tuple[1] = 3\n",
    "except Exception as er:\n",
    "    print(er)"
   ]
  },
  {
   "cell_type": "code",
   "execution_count": 34,
   "id": "e5e6fc44",
   "metadata": {},
   "outputs": [],
   "source": [
    "# eficazes para retornar multiplos valores em funções\n",
    "\n",
    "def sum_and_product (x,y):\n",
    "    return (x + y), (x * y)"
   ]
  },
  {
   "cell_type": "code",
   "execution_count": 35,
   "id": "2f6d0935",
   "metadata": {},
   "outputs": [
    {
     "data": {
      "text/plain": [
       "(7, 10)"
      ]
     },
     "execution_count": 35,
     "metadata": {},
     "output_type": "execute_result"
    }
   ],
   "source": [
    "sp = sum_and_product(2,5)\n",
    "sp"
   ]
  },
  {
   "cell_type": "code",
   "execution_count": 36,
   "id": "462e9764",
   "metadata": {},
   "outputs": [
    {
     "name": "stdout",
     "output_type": "stream",
     "text": [
      "7\n",
      "10\n"
     ]
    }
   ],
   "source": [
    "s,p = sum_and_product(2,5)\n",
    "print(s)\n",
    "print(p)"
   ]
  },
  {
   "cell_type": "code",
   "execution_count": 37,
   "id": "a83004f4",
   "metadata": {},
   "outputs": [
    {
     "name": "stdout",
     "output_type": "stream",
     "text": [
      "10\n",
      "7\n"
     ]
    }
   ],
   "source": [
    "# muito util em atribuições multiplas\n",
    "\n",
    "s,p = p,s\n",
    "print(s)\n",
    "print(p)"
   ]
  },
  {
   "cell_type": "markdown",
   "id": "41ec90a0",
   "metadata": {},
   "source": [
    "# Dicionários"
   ]
  },
  {
   "cell_type": "code",
   "execution_count": 38,
   "id": "cad6095f",
   "metadata": {},
   "outputs": [
    {
     "data": {
      "text/plain": [
       "{}"
      ]
     },
     "execution_count": 38,
     "metadata": {},
     "output_type": "execute_result"
    }
   ],
   "source": [
    "# dict são baseados em chave e valor\n",
    "\n",
    "empty_dict = {} # dict vazio\n",
    "\n",
    "empty_dict"
   ]
  },
  {
   "cell_type": "code",
   "execution_count": 39,
   "id": "e752c0d4",
   "metadata": {},
   "outputs": [
    {
     "data": {
      "text/plain": [
       "80"
      ]
     },
     "execution_count": 39,
     "metadata": {},
     "output_type": "execute_result"
    }
   ],
   "source": [
    "# pode fazer buscas pelas chaves\n",
    "\n",
    "grades = {\"Joel\":80, \"Tim\":95}\n",
    "grades[\"Joel\"]"
   ]
  },
  {
   "cell_type": "code",
   "execution_count": 40,
   "id": "d4074b81",
   "metadata": {},
   "outputs": [
    {
     "name": "stdout",
     "output_type": "stream",
     "text": [
      "Not exists this key\n"
     ]
    }
   ],
   "source": [
    "# tentando acessar chaves inexistentes\n",
    "\n",
    "try:\n",
    "    grades[\"Hugo\"]\n",
    "except KeyError:\n",
    "    print(\"Not exists this key\")"
   ]
  },
  {
   "cell_type": "code",
   "execution_count": 41,
   "id": "73d52ed9",
   "metadata": {},
   "outputs": [
    {
     "name": "stdout",
     "output_type": "stream",
     "text": [
      "True\n",
      "False\n"
     ]
    }
   ],
   "source": [
    "# verificando chaves com o operador in\n",
    "\n",
    "print(\"Joel\" in grades)\n",
    "print(\"Hugo\" in grades)"
   ]
  },
  {
   "cell_type": "code",
   "execution_count": 42,
   "id": "960a968e",
   "metadata": {},
   "outputs": [
    {
     "name": "stdout",
     "output_type": "stream",
     "text": [
      "80\n",
      "0\n",
      "None\n"
     ]
    }
   ],
   "source": [
    "# método get que busca uma chave\n",
    "\n",
    "print(grades.get(\"Joel\")) # achou? retorna o valor\n",
    "print(grades.get(\"Hugo\",0)) # pode colocar um parametro para ele retornar caso não ache\n",
    "print(grades.get(\"Hugo\")) # por padrão retorna None"
   ]
  },
  {
   "cell_type": "code",
   "execution_count": 43,
   "id": "aaff19e2",
   "metadata": {},
   "outputs": [
    {
     "data": {
      "text/plain": [
       "3"
      ]
     },
     "execution_count": 43,
     "metadata": {},
     "output_type": "execute_result"
    }
   ],
   "source": [
    "# atribuindo novas chave, valor\n",
    "\n",
    "grades[\"Hugo\"] = 105\n",
    "len(grades)"
   ]
  },
  {
   "cell_type": "code",
   "execution_count": 44,
   "id": "828f47eb",
   "metadata": {},
   "outputs": [],
   "source": [
    "# dict podem representar dados estruturados\n",
    "\n",
    "tweet = {\n",
    "    \"user\":\"Hugo\",\n",
    "    \"text\":\"Data Science is the future\",\n",
    "    \"retweet_count\": 100,\n",
    "    \"hashtags\":[\"#data\", \"#science\", \"#machine-learning\", \"#deep-learning\"]\n",
    "}"
   ]
  },
  {
   "cell_type": "code",
   "execution_count": 45,
   "id": "f53e2e2f",
   "metadata": {},
   "outputs": [
    {
     "name": "stdout",
     "output_type": "stream",
     "text": [
      "dict_keys(['user', 'text', 'retweet_count', 'hashtags'])\n",
      "dict_values(['Hugo', 'Data Science is the future', 100, ['#data', '#science', '#machine-learning', '#deep-learning']])\n",
      "dict_items([('user', 'Hugo'), ('text', 'Data Science is the future'), ('retweet_count', 100), ('hashtags', ['#data', '#science', '#machine-learning', '#deep-learning'])])\n"
     ]
    }
   ],
   "source": [
    "# podemos iterar sobre as chaves, valores ou (chaves, valores)\n",
    "\n",
    "print(tweet.keys()) # iterando nas chaves\n",
    "print(tweet.values()) # iterando nos valores\n",
    "print(tweet.items()) # iterando nas (chaves, valores)"
   ]
  },
  {
   "cell_type": "markdown",
   "id": "f5c8cfb4",
   "metadata": {},
   "source": [
    "# Contadores"
   ]
  },
  {
   "cell_type": "code",
   "execution_count": 46,
   "id": "17301a84",
   "metadata": {},
   "outputs": [],
   "source": [
    "from collections import Counter"
   ]
  },
  {
   "cell_type": "code",
   "execution_count": 47,
   "id": "d7266b8e",
   "metadata": {},
   "outputs": [],
   "source": [
    "c = Counter([0,0,1,1,1,2])"
   ]
  },
  {
   "cell_type": "code",
   "execution_count": 48,
   "id": "b2047db3",
   "metadata": {},
   "outputs": [
    {
     "data": {
      "text/plain": [
       "Counter({0: 2, 1: 3, 2: 1})"
      ]
     },
     "execution_count": 48,
     "metadata": {},
     "output_type": "execute_result"
    }
   ],
   "source": [
    "# basicamente uma biblioteca que tem uma função que conta os elementos iguais e retorna sua quantidade\n",
    "c"
   ]
  },
  {
   "cell_type": "code",
   "execution_count": 49,
   "id": "b3037e98",
   "metadata": {},
   "outputs": [],
   "source": [
    "document = [\"Hugo Gabriel\", \"Pão Mendes\"]"
   ]
  },
  {
   "cell_type": "code",
   "execution_count": 50,
   "id": "1bb3f90b",
   "metadata": {},
   "outputs": [],
   "source": [
    "word_counts = Counter(document)"
   ]
  },
  {
   "cell_type": "code",
   "execution_count": 51,
   "id": "42e7f873",
   "metadata": {},
   "outputs": [
    {
     "name": "stdout",
     "output_type": "stream",
     "text": [
      "Hugo Gabriel: 1\n",
      "Pão Mendes: 1\n"
     ]
    }
   ],
   "source": [
    "for word, count in word_counts.most_common(10):\n",
    "    print(f\"{word}: {count}\")"
   ]
  },
  {
   "cell_type": "markdown",
   "id": "40605656",
   "metadata": {},
   "source": [
    "# Conjuntos"
   ]
  },
  {
   "cell_type": "code",
   "execution_count": 52,
   "id": "97d4521b",
   "metadata": {},
   "outputs": [],
   "source": [
    "# uma estrutura de dados que não permite elementos duplicados\n",
    "primes_below_10 = {2,3,5,7}"
   ]
  },
  {
   "cell_type": "code",
   "execution_count": 53,
   "id": "03252cba",
   "metadata": {},
   "outputs": [
    {
     "data": {
      "text/plain": [
       "{2, 3, 5, 7}"
      ]
     },
     "execution_count": 53,
     "metadata": {},
     "output_type": "execute_result"
    }
   ],
   "source": [
    "primes_below_10"
   ]
  },
  {
   "cell_type": "code",
   "execution_count": 54,
   "id": "6245f8ac",
   "metadata": {},
   "outputs": [],
   "source": [
    "# para inicializar um conjunto vazio usa-se\n",
    "s = set()"
   ]
  },
  {
   "cell_type": "code",
   "execution_count": 55,
   "id": "1ed6d23b",
   "metadata": {},
   "outputs": [
    {
     "data": {
      "text/plain": [
       "{1, 2, 3}"
      ]
     },
     "execution_count": 55,
     "metadata": {},
     "output_type": "execute_result"
    }
   ],
   "source": [
    "s.add(1)\n",
    "s.add(2)\n",
    "s.add(3)\n",
    "s"
   ]
  },
  {
   "cell_type": "code",
   "execution_count": 56,
   "id": "41d6eeea",
   "metadata": {},
   "outputs": [
    {
     "data": {
      "text/plain": [
       "3"
      ]
     },
     "execution_count": 56,
     "metadata": {},
     "output_type": "execute_result"
    }
   ],
   "source": [
    "len(s)"
   ]
  },
  {
   "cell_type": "code",
   "execution_count": 57,
   "id": "786596de",
   "metadata": {},
   "outputs": [
    {
     "data": {
      "text/plain": [
       "True"
      ]
     },
     "execution_count": 57,
     "metadata": {},
     "output_type": "execute_result"
    }
   ],
   "source": [
    "2 in s"
   ]
  },
  {
   "cell_type": "code",
   "execution_count": 58,
   "id": "6ede8993",
   "metadata": {},
   "outputs": [
    {
     "data": {
      "text/plain": [
       "False"
      ]
     },
     "execution_count": 58,
     "metadata": {},
     "output_type": "execute_result"
    }
   ],
   "source": [
    "5 in s"
   ]
  },
  {
   "cell_type": "code",
   "execution_count": 59,
   "id": "4bd87873",
   "metadata": {},
   "outputs": [
    {
     "name": "stdout",
     "output_type": "stream",
     "text": [
      "[1, 2, 1, 2, 3, 5]\n",
      "6\n"
     ]
    }
   ],
   "source": [
    "item_list = [1,2,1,2,3,5]\n",
    "print(item_list)\n",
    "print(len(item_list))"
   ]
  },
  {
   "cell_type": "code",
   "execution_count": 60,
   "id": "ca72efb8",
   "metadata": {},
   "outputs": [
    {
     "name": "stdout",
     "output_type": "stream",
     "text": [
      "{1, 2, 3, 5}\n",
      "4\n"
     ]
    }
   ],
   "source": [
    "item_set = set(item_list)\n",
    "print(item_set)\n",
    "print(len(item_set))"
   ]
  },
  {
   "cell_type": "code",
   "execution_count": 61,
   "id": "7ba2c2bb",
   "metadata": {},
   "outputs": [
    {
     "name": "stdout",
     "output_type": "stream",
     "text": [
      "{2, 3}\n",
      "{1, 2, 3, 5, 7, 8, 9}\n"
     ]
    }
   ],
   "source": [
    "# Union e intersection\n",
    "\n",
    "print(item_set.intersection([2,3]))\n",
    "print(item_set.union([7,8,9]))"
   ]
  },
  {
   "cell_type": "markdown",
   "id": "4edb12e8",
   "metadata": {},
   "source": [
    "# Fluxo de Controle"
   ]
  },
  {
   "cell_type": "code",
   "execution_count": 62,
   "id": "913d9e78",
   "metadata": {},
   "outputs": [
    {
     "name": "stdout",
     "output_type": "stream",
     "text": [
      "Yes\n"
     ]
    }
   ],
   "source": [
    "if 1 > 2:\n",
    "    print(\"Here\")\n",
    "elif 1 > 3:\n",
    "    print(\"No\")\n",
    "else:\n",
    "    print(\"Yes\")"
   ]
  },
  {
   "cell_type": "code",
   "execution_count": 63,
   "id": "79c37d91",
   "metadata": {},
   "outputs": [
    {
     "name": "stdout",
     "output_type": "stream",
     "text": [
      "Par\n"
     ]
    }
   ],
   "source": [
    "# operador ternario\n",
    "# se verdadeiro | condição | se falso\n",
    "\n",
    "print(\"Par\" if 10 % 2 == 0 else \"Impar\")"
   ]
  },
  {
   "cell_type": "code",
   "execution_count": 64,
   "id": "78059aac",
   "metadata": {},
   "outputs": [
    {
     "data": {
      "text/plain": [
       "True"
      ]
     },
     "execution_count": 64,
     "metadata": {},
     "output_type": "execute_result"
    }
   ],
   "source": [
    "True if \"Hugo\" == \"Hugo\" else False"
   ]
  },
  {
   "cell_type": "code",
   "execution_count": 65,
   "id": "4a2aa107",
   "metadata": {},
   "outputs": [
    {
     "name": "stdout",
     "output_type": "stream",
     "text": [
      "0\n",
      "1\n",
      "2\n",
      "3\n",
      "4\n",
      "5\n",
      "6\n",
      "7\n",
      "8\n",
      "9\n"
     ]
    }
   ],
   "source": [
    "# loop while\n",
    "x = 0\n",
    "while x < 10:\n",
    "    print(x)\n",
    "    x += 1"
   ]
  },
  {
   "cell_type": "code",
   "execution_count": 66,
   "id": "3cdee48f",
   "metadata": {},
   "outputs": [
    {
     "name": "stdout",
     "output_type": "stream",
     "text": [
      "0\n",
      "1\n",
      "2\n",
      "3\n",
      "4\n",
      "5\n",
      "6\n",
      "7\n",
      "8\n",
      "9\n"
     ]
    }
   ],
   "source": [
    "# mais usual for e in\n",
    "range(10) # lista de elementos com 10 numeros\n",
    "for i in range(10):\n",
    "    print(i)"
   ]
  },
  {
   "cell_type": "code",
   "execution_count": 67,
   "id": "0bc2fc0e",
   "metadata": {},
   "outputs": [
    {
     "name": "stdout",
     "output_type": "stream",
     "text": [
      "0\n",
      "1\n",
      "2\n",
      "4\n"
     ]
    }
   ],
   "source": [
    "# continue e break\n",
    "for x in range (10):\n",
    "    if x == 3:\n",
    "        continue # vai pra proxima iteração\n",
    "    if x == 5:\n",
    "        break # quebra e saia do loop\n",
    "    print(x)"
   ]
  },
  {
   "cell_type": "markdown",
   "id": "a7c5a4d5",
   "metadata": {},
   "source": [
    "# Veracidade"
   ]
  },
  {
   "cell_type": "code",
   "execution_count": 68,
   "id": "9d6746c6",
   "metadata": {},
   "outputs": [
    {
     "name": "stdout",
     "output_type": "stream",
     "text": [
      "True\n",
      "False\n"
     ]
    }
   ],
   "source": [
    "# booleano no python são com letra maiúscula\n",
    "\n",
    "print(1 < 2)\n",
    "print(True == False)"
   ]
  },
  {
   "cell_type": "code",
   "execution_count": 69,
   "id": "aa41841e",
   "metadata": {},
   "outputs": [
    {
     "data": {
      "text/plain": [
       "False"
      ]
     },
     "execution_count": 69,
     "metadata": {},
     "output_type": "execute_result"
    }
   ],
   "source": [
    "# none em python indica que um valor não existe como null em outras linguagens\n",
    "\n",
    "x == None # não recomendável usar dessa forma"
   ]
  },
  {
   "cell_type": "code",
   "execution_count": 70,
   "id": "5bba47ab",
   "metadata": {},
   "outputs": [
    {
     "data": {
      "text/plain": [
       "False"
      ]
     },
     "execution_count": 70,
     "metadata": {},
     "output_type": "execute_result"
    }
   ],
   "source": [
    "x is None # use desse jeito"
   ]
  },
  {
   "cell_type": "code",
   "execution_count": 71,
   "id": "ae7224ba",
   "metadata": {},
   "outputs": [
    {
     "name": "stdout",
     "output_type": "stream",
     "text": [
      "empty\n"
     ]
    }
   ],
   "source": [
    "# pode usar if para procurar listas, strings, dicionarios, tuplas e conjuntos vazios\n",
    "\n",
    "s = \"\"\n",
    "if s: # retorna True se tiver elemento ou False se não tiver\n",
    "    print(s)\n",
    "else:\n",
    "    print(\"empty\")"
   ]
  },
  {
   "cell_type": "code",
   "execution_count": 72,
   "id": "e1ccf1c1",
   "metadata": {},
   "outputs": [
    {
     "name": "stdout",
     "output_type": "stream",
     "text": [
      "[1]\n"
     ]
    }
   ],
   "source": [
    "l = [1]\n",
    "if l:\n",
    "    print(l)\n",
    "else:\n",
    "    print(\"empty\")"
   ]
  },
  {
   "cell_type": "code",
   "execution_count": 73,
   "id": "50aa1064",
   "metadata": {},
   "outputs": [
    {
     "data": {
      "text/plain": [
       "1"
      ]
     },
     "execution_count": 73,
     "metadata": {},
     "output_type": "execute_result"
    }
   ],
   "source": [
    "x = 1\n",
    "x if x is not None else -1 # maneira de ler\n",
    "# retorne x se x não for None senão retorne -1"
   ]
  },
  {
   "cell_type": "code",
   "execution_count": 74,
   "id": "9e9f4a8b",
   "metadata": {},
   "outputs": [
    {
     "data": {
      "text/plain": [
       "True"
      ]
     },
     "execution_count": 74,
     "metadata": {},
     "output_type": "execute_result"
    }
   ],
   "source": [
    "# funçao all recece um iterável e retorn True quando todos os elementos são verdadeiros\n",
    "\n",
    "all([True, 1, [1,2]]) # retorne pois todos os elementos são verdadeiros"
   ]
  },
  {
   "cell_type": "code",
   "execution_count": 75,
   "id": "17899291",
   "metadata": {},
   "outputs": [
    {
     "data": {
      "text/plain": [
       "False"
      ]
     },
     "execution_count": 75,
     "metadata": {},
     "output_type": "execute_result"
    }
   ],
   "source": [
    "all([True, 2, []]) # retorna False pois [] é falso"
   ]
  },
  {
   "cell_type": "code",
   "execution_count": 76,
   "id": "fbad1a26",
   "metadata": {},
   "outputs": [
    {
     "data": {
      "text/plain": [
       "True"
      ]
     },
     "execution_count": 76,
     "metadata": {},
     "output_type": "execute_result"
    }
   ],
   "source": [
    "# função any retorna True quando há pelo menos um elemento verdadeiro\n",
    "\n",
    "any([False, {}, 1]) # retorna True pois tem um elemento verdadeiro"
   ]
  },
  {
   "cell_type": "code",
   "execution_count": 77,
   "id": "427ab1d2",
   "metadata": {},
   "outputs": [
    {
     "data": {
      "text/plain": [
       "False"
      ]
     },
     "execution_count": 77,
     "metadata": {},
     "output_type": "execute_result"
    }
   ],
   "source": [
    "any([False, [], \"\"]) # retorna False pois todos os elementos são falsos"
   ]
  },
  {
   "cell_type": "markdown",
   "id": "a1489b66",
   "metadata": {},
   "source": [
    "# Classificação"
   ]
  },
  {
   "cell_type": "code",
   "execution_count": 78,
   "id": "45b7efb9",
   "metadata": {},
   "outputs": [
    {
     "data": {
      "text/plain": [
       "[1, 2, 9, 12, 45]"
      ]
     },
     "execution_count": 78,
     "metadata": {},
     "output_type": "execute_result"
    }
   ],
   "source": [
    "# toda lista tem um método sort que organiza a lista, vc pode usar a função sorted que retorna uma nova lista\n",
    "x = [45,9,12,1,2]\n",
    "y = sorted(x)\n",
    "y"
   ]
  },
  {
   "cell_type": "code",
   "execution_count": 79,
   "id": "b524ad38",
   "metadata": {},
   "outputs": [
    {
     "data": {
      "text/plain": [
       "[1, 2, 9, 12, 45]"
      ]
     },
     "execution_count": 79,
     "metadata": {},
     "output_type": "execute_result"
    }
   ],
   "source": [
    "x.sort()\n",
    "x"
   ]
  },
  {
   "cell_type": "code",
   "execution_count": 80,
   "id": "b96e7ef9",
   "metadata": {},
   "outputs": [
    {
     "data": {
      "text/plain": [
       "[89, 10, 5, 1, 0]"
      ]
     },
     "execution_count": 80,
     "metadata": {},
     "output_type": "execute_result"
    }
   ],
   "source": [
    "# por padrão o sort e sorted organizam a lista do menor elemento para o maior\n",
    "# para organizar os elementos do maior para o menor usa-se o parametro reverse=True\n",
    "\n",
    "new_x = [0,5,1,89,10]\n",
    "new_x.sort(reverse=True)\n",
    "new_x"
   ]
  },
  {
   "cell_type": "markdown",
   "id": "442219df",
   "metadata": {},
   "source": [
    "# Compreensões de Listas"
   ]
  },
  {
   "cell_type": "code",
   "execution_count": 81,
   "id": "a8c2056c",
   "metadata": {},
   "outputs": [
    {
     "data": {
      "text/plain": [
       "[0, 2, 4, 6, 8, 10]"
      ]
     },
     "execution_count": 81,
     "metadata": {},
     "output_type": "execute_result"
    }
   ],
   "source": [
    "# transformando uma lista em outra\n",
    "# lista de números pares\n",
    "list_par = []\n",
    "for x in range(11):\n",
    "    if x % 2 == 0:\n",
    "        list_par.append(x)\n",
    "list_par"
   ]
  },
  {
   "cell_type": "code",
   "execution_count": 82,
   "id": "10f21680",
   "metadata": {},
   "outputs": [
    {
     "data": {
      "text/plain": [
       "[0, 2, 4, 6, 8, 10]"
      ]
     },
     "execution_count": 82,
     "metadata": {},
     "output_type": "execute_result"
    }
   ],
   "source": [
    "# faça dessa forma\n",
    "\n",
    "list_par = [x for x in range(11) if x % 2 == 0]\n",
    "list_par"
   ]
  },
  {
   "cell_type": "code",
   "execution_count": 83,
   "id": "d4183aed",
   "metadata": {},
   "outputs": [
    {
     "data": {
      "text/plain": [
       "[0, 4, 16, 36, 64, 100]"
      ]
     },
     "execution_count": 83,
     "metadata": {},
     "output_type": "execute_result"
    }
   ],
   "source": [
    "squared_list_par = [x * x for x in list_par]\n",
    "squared_list_par"
   ]
  },
  {
   "cell_type": "code",
   "execution_count": 84,
   "id": "8babe7d8",
   "metadata": {},
   "outputs": [
    {
     "data": {
      "text/plain": [
       "{0: 0, 1: 1, 2: 4, 3: 9, 4: 16, 5: 25}"
      ]
     },
     "execution_count": 84,
     "metadata": {},
     "output_type": "execute_result"
    }
   ],
   "source": [
    "# usando em dicts\n",
    "squared_dict = {x: x * x for x in range(6)}\n",
    "squared_dict"
   ]
  },
  {
   "cell_type": "code",
   "execution_count": 85,
   "id": "b0ca3ffd",
   "metadata": {},
   "outputs": [
    {
     "data": {
      "text/plain": [
       "[(0, 0),\n",
       " (0, 1),\n",
       " (0, 2),\n",
       " (0, 3),\n",
       " (0, 4),\n",
       " (0, 5),\n",
       " (0, 6),\n",
       " (0, 7),\n",
       " (0, 8),\n",
       " (0, 9),\n",
       " (1, 0),\n",
       " (1, 1),\n",
       " (1, 2),\n",
       " (1, 3),\n",
       " (1, 4),\n",
       " (1, 5),\n",
       " (1, 6),\n",
       " (1, 7),\n",
       " (1, 8),\n",
       " (1, 9),\n",
       " (2, 0),\n",
       " (2, 1),\n",
       " (2, 2),\n",
       " (2, 3),\n",
       " (2, 4),\n",
       " (2, 5),\n",
       " (2, 6),\n",
       " (2, 7),\n",
       " (2, 8),\n",
       " (2, 9),\n",
       " (3, 0),\n",
       " (3, 1),\n",
       " (3, 2),\n",
       " (3, 3),\n",
       " (3, 4),\n",
       " (3, 5),\n",
       " (3, 6),\n",
       " (3, 7),\n",
       " (3, 8),\n",
       " (3, 9),\n",
       " (4, 0),\n",
       " (4, 1),\n",
       " (4, 2),\n",
       " (4, 3),\n",
       " (4, 4),\n",
       " (4, 5),\n",
       " (4, 6),\n",
       " (4, 7),\n",
       " (4, 8),\n",
       " (4, 9),\n",
       " (5, 0),\n",
       " (5, 1),\n",
       " (5, 2),\n",
       " (5, 3),\n",
       " (5, 4),\n",
       " (5, 5),\n",
       " (5, 6),\n",
       " (5, 7),\n",
       " (5, 8),\n",
       " (5, 9),\n",
       " (6, 0),\n",
       " (6, 1),\n",
       " (6, 2),\n",
       " (6, 3),\n",
       " (6, 4),\n",
       " (6, 5),\n",
       " (6, 6),\n",
       " (6, 7),\n",
       " (6, 8),\n",
       " (6, 9),\n",
       " (7, 0),\n",
       " (7, 1),\n",
       " (7, 2),\n",
       " (7, 3),\n",
       " (7, 4),\n",
       " (7, 5),\n",
       " (7, 6),\n",
       " (7, 7),\n",
       " (7, 8),\n",
       " (7, 9),\n",
       " (8, 0),\n",
       " (8, 1),\n",
       " (8, 2),\n",
       " (8, 3),\n",
       " (8, 4),\n",
       " (8, 5),\n",
       " (8, 6),\n",
       " (8, 7),\n",
       " (8, 8),\n",
       " (8, 9),\n",
       " (9, 0),\n",
       " (9, 1),\n",
       " (9, 2),\n",
       " (9, 3),\n",
       " (9, 4),\n",
       " (9, 5),\n",
       " (9, 6),\n",
       " (9, 7),\n",
       " (9, 8),\n",
       " (9, 9)]"
      ]
     },
     "execution_count": 85,
     "metadata": {},
     "output_type": "execute_result"
    }
   ],
   "source": [
    "# multiplos fors\n",
    "pairs = [(x,y)\n",
    "        for x in range(10)\n",
    "        for y in range(10)]\n",
    "pairs"
   ]
  },
  {
   "cell_type": "code",
   "execution_count": 86,
   "id": "38ae6cfe",
   "metadata": {},
   "outputs": [
    {
     "data": {
      "text/plain": [
       "[(0, 1),\n",
       " (0, 2),\n",
       " (0, 3),\n",
       " (0, 4),\n",
       " (0, 5),\n",
       " (0, 6),\n",
       " (0, 7),\n",
       " (0, 8),\n",
       " (0, 9),\n",
       " (1, 2),\n",
       " (1, 3),\n",
       " (1, 4),\n",
       " (1, 5),\n",
       " (1, 6),\n",
       " (1, 7),\n",
       " (1, 8),\n",
       " (1, 9),\n",
       " (2, 3),\n",
       " (2, 4),\n",
       " (2, 5),\n",
       " (2, 6),\n",
       " (2, 7),\n",
       " (2, 8),\n",
       " (2, 9),\n",
       " (3, 4),\n",
       " (3, 5),\n",
       " (3, 6),\n",
       " (3, 7),\n",
       " (3, 8),\n",
       " (3, 9),\n",
       " (4, 5),\n",
       " (4, 6),\n",
       " (4, 7),\n",
       " (4, 8),\n",
       " (4, 9),\n",
       " (5, 6),\n",
       " (5, 7),\n",
       " (5, 8),\n",
       " (5, 9),\n",
       " (6, 7),\n",
       " (6, 8),\n",
       " (6, 9),\n",
       " (7, 8),\n",
       " (7, 9),\n",
       " (8, 9)]"
      ]
     },
     "execution_count": 86,
     "metadata": {},
     "output_type": "execute_result"
    }
   ],
   "source": [
    "# multiplos fors\n",
    "pairs = [(x,y)\n",
    "        for x in range(10)\n",
    "        for y in range(x + 1,10)]\n",
    "pairs"
   ]
  },
  {
   "cell_type": "code",
   "execution_count": 87,
   "id": "ddf77af7",
   "metadata": {},
   "outputs": [
    {
     "data": {
      "text/plain": [
       "[(0, 0),\n",
       " (1, 1),\n",
       " (2, 2),\n",
       " (3, 3),\n",
       " (4, 4),\n",
       " (5, 5),\n",
       " (6, 6),\n",
       " (7, 7),\n",
       " (8, 8),\n",
       " (9, 9),\n",
       " (10, 10)]"
      ]
     },
     "execution_count": 87,
     "metadata": {},
     "output_type": "execute_result"
    }
   ],
   "source": [
    "like_pairs = [(x,x) for x in range(11)]\n",
    "like_pairs"
   ]
  },
  {
   "cell_type": "markdown",
   "id": "f0e92104",
   "metadata": {},
   "source": [
    "# Testes Automatizados"
   ]
  },
  {
   "cell_type": "code",
   "execution_count": 88,
   "id": "8a00a55f",
   "metadata": {},
   "outputs": [],
   "source": [
    "assert 1 + 1 == 2, \"Error\""
   ]
  },
  {
   "cell_type": "code",
   "execution_count": 89,
   "id": "6b3124b4",
   "metadata": {},
   "outputs": [
    {
     "ename": "AssertionError",
     "evalue": "Error",
     "output_type": "error",
     "traceback": [
      "\u001b[1;31m---------------------------------------------------------------------------\u001b[0m",
      "\u001b[1;31mAssertionError\u001b[0m                            Traceback (most recent call last)",
      "\u001b[1;32m~\\AppData\\Local\\Temp\\ipykernel_14628\\242566360.py\u001b[0m in \u001b[0;36m<module>\u001b[1;34m\u001b[0m\n\u001b[1;32m----> 1\u001b[1;33m \u001b[1;32massert\u001b[0m \u001b[1;36m2\u001b[0m \u001b[1;33m+\u001b[0m \u001b[1;36m2\u001b[0m \u001b[1;33m==\u001b[0m \u001b[1;36m5\u001b[0m\u001b[1;33m,\u001b[0m \u001b[1;34m\"Error\"\u001b[0m\u001b[1;33m\u001b[0m\u001b[1;33m\u001b[0m\u001b[0m\n\u001b[0m",
      "\u001b[1;31mAssertionError\u001b[0m: Error"
     ]
    }
   ],
   "source": [
    "assert 2 + 2 == 5, \"Error\""
   ]
  },
  {
   "cell_type": "code",
   "execution_count": 90,
   "id": "89f30181",
   "metadata": {},
   "outputs": [],
   "source": [
    "def smallest_min (x):\n",
    "    return x"
   ]
  },
  {
   "cell_type": "code",
   "execution_count": 91,
   "id": "205aafec",
   "metadata": {},
   "outputs": [
    {
     "ename": "AssertionError",
     "evalue": "Error",
     "output_type": "error",
     "traceback": [
      "\u001b[1;31m---------------------------------------------------------------------------\u001b[0m",
      "\u001b[1;31mAssertionError\u001b[0m                            Traceback (most recent call last)",
      "\u001b[1;32m~\\AppData\\Local\\Temp\\ipykernel_14628\\3491408361.py\u001b[0m in \u001b[0;36m<module>\u001b[1;34m\u001b[0m\n\u001b[1;32m----> 1\u001b[1;33m \u001b[1;32massert\u001b[0m \u001b[0msmallest_min\u001b[0m\u001b[1;33m(\u001b[0m\u001b[1;33m[\u001b[0m\u001b[1;36m1\u001b[0m\u001b[1;33m,\u001b[0m\u001b[1;36m2\u001b[0m\u001b[1;33m,\u001b[0m\u001b[1;36m3\u001b[0m\u001b[1;33m,\u001b[0m\u001b[1;36m4\u001b[0m\u001b[1;33m,\u001b[0m\u001b[1;36m5\u001b[0m\u001b[1;33m]\u001b[0m\u001b[1;33m)\u001b[0m \u001b[1;33m==\u001b[0m \u001b[1;36m5\u001b[0m\u001b[1;33m,\u001b[0m \u001b[1;34m\"Error\"\u001b[0m\u001b[1;33m\u001b[0m\u001b[1;33m\u001b[0m\u001b[0m\n\u001b[0m",
      "\u001b[1;31mAssertionError\u001b[0m: Error"
     ]
    }
   ],
   "source": [
    "assert smallest_min([1,2,3,4,5]) == 5, \"Error\""
   ]
  },
  {
   "cell_type": "markdown",
   "id": "7ef436ba",
   "metadata": {},
   "source": [
    "# Programação orientada a objetos"
   ]
  },
  {
   "cell_type": "code",
   "execution_count": 92,
   "id": "9e99824d",
   "metadata": {},
   "outputs": [],
   "source": [
    "# obejto com métodos e atributos\n",
    "class CountingClicker:\n",
    "    \n",
    "    def __init__ (self, count=0):\n",
    "        self.count = count\n",
    "    \n",
    "    def click (self, num_times=1):\n",
    "        self.count += num_times\n",
    "        \n",
    "    def read (self):\n",
    "        return self.count\n",
    "\n",
    "    def reset (self):\n",
    "        self.count = 0"
   ]
  },
  {
   "cell_type": "code",
   "execution_count": 93,
   "id": "e09036f4",
   "metadata": {},
   "outputs": [],
   "source": [
    "# utilizando os testes automatizados para testar o código\n",
    "clicker = CountingClicker()\n",
    "assert clicker.read() == 0, \"Clicker starts with 0 clicks\"\n",
    "clicker.click()\n",
    "clicker.click()\n",
    "assert clicker.read() == 2, \"Clicker com 2 clicks\"\n",
    "clicker.reset()\n",
    "assert clicker.read() == 0, \"Clicker comeback to 0 clicks\""
   ]
  },
  {
   "cell_type": "code",
   "execution_count": 94,
   "id": "d28cabd0",
   "metadata": {},
   "outputs": [],
   "source": [
    "# utilizando heranças\n",
    "\n",
    "class NoResetClicker (CountingClicker):\n",
    "    \n",
    "    def __init__ (self,count=0):\n",
    "        super().__init__(count)\n",
    "    def reset (self):\n",
    "        pass"
   ]
  },
  {
   "cell_type": "code",
   "execution_count": 95,
   "id": "a490d29f",
   "metadata": {},
   "outputs": [
    {
     "ename": "AssertionError",
     "evalue": "Clicker not comeback to 0 clicks",
     "output_type": "error",
     "traceback": [
      "\u001b[1;31m---------------------------------------------------------------------------\u001b[0m",
      "\u001b[1;31mAssertionError\u001b[0m                            Traceback (most recent call last)",
      "\u001b[1;32m~\\AppData\\Local\\Temp\\ipykernel_14628\\3685516590.py\u001b[0m in \u001b[0;36m<module>\u001b[1;34m\u001b[0m\n\u001b[0;32m      6\u001b[0m \u001b[1;32massert\u001b[0m \u001b[0mclicker_children\u001b[0m\u001b[1;33m.\u001b[0m\u001b[0mread\u001b[0m\u001b[1;33m(\u001b[0m\u001b[1;33m)\u001b[0m \u001b[1;33m==\u001b[0m \u001b[1;36m2\u001b[0m\u001b[1;33m,\u001b[0m \u001b[1;34m\"Clicker com 2 clicks\"\u001b[0m\u001b[1;33m\u001b[0m\u001b[1;33m\u001b[0m\u001b[0m\n\u001b[0;32m      7\u001b[0m \u001b[0mclicker_children\u001b[0m\u001b[1;33m.\u001b[0m\u001b[0mreset\u001b[0m\u001b[1;33m(\u001b[0m\u001b[1;33m)\u001b[0m\u001b[1;33m\u001b[0m\u001b[1;33m\u001b[0m\u001b[0m\n\u001b[1;32m----> 8\u001b[1;33m \u001b[1;32massert\u001b[0m \u001b[0mclicker_children\u001b[0m\u001b[1;33m.\u001b[0m\u001b[0mread\u001b[0m\u001b[1;33m(\u001b[0m\u001b[1;33m)\u001b[0m \u001b[1;33m==\u001b[0m \u001b[1;36m0\u001b[0m\u001b[1;33m,\u001b[0m \u001b[1;34m\"Clicker not comeback to 0 clicks\"\u001b[0m\u001b[1;33m\u001b[0m\u001b[1;33m\u001b[0m\u001b[0m\n\u001b[0m",
      "\u001b[1;31mAssertionError\u001b[0m: Clicker not comeback to 0 clicks"
     ]
    }
   ],
   "source": [
    "# usa o método reset porém sobrescrito pela subclasse\n",
    "\n",
    "clicker_children = NoResetClicker()\n",
    "clicker_children.click()\n",
    "clicker_children.click()\n",
    "assert clicker_children.read() == 2, \"Clicker com 2 clicks\"\n",
    "clicker_children.reset()\n",
    "assert clicker_children.read() == 0, \"Clicker not comeback to 0 clicks\""
   ]
  },
  {
   "cell_type": "markdown",
   "id": "1111ee33",
   "metadata": {},
   "source": [
    "# Iteráveis e Geradores"
   ]
  },
  {
   "cell_type": "code",
   "execution_count": 96,
   "id": "df5ac9a1",
   "metadata": {},
   "outputs": [],
   "source": [
    "# geradores geram apenas os valores solicitados, podem ser iterados como lista\n",
    "# ele entrega valores sob demanda\n",
    "\n",
    "def generate_range(n):\n",
    "    i = 0\n",
    "    while i < n:\n",
    "        yield i\n",
    "        i += 1"
   ]
  },
  {
   "cell_type": "code",
   "execution_count": 97,
   "id": "8d5868f8",
   "metadata": {},
   "outputs": [
    {
     "name": "stdout",
     "output_type": "stream",
     "text": [
      "i: 0\n",
      "i: 1\n",
      "i: 2\n",
      "i: 3\n",
      "i: 4\n",
      "i: 5\n",
      "i: 6\n",
      "i: 7\n",
      "i: 8\n",
      "i: 9\n"
     ]
    }
   ],
   "source": [
    "for i in generate_range(10):\n",
    "    print(f\"i: {i}\")"
   ]
  },
  {
   "cell_type": "code",
   "execution_count": 98,
   "id": "83d26085",
   "metadata": {},
   "outputs": [],
   "source": [
    "def generate_name (names):\n",
    "    for name in names:\n",
    "        yield name"
   ]
  },
  {
   "cell_type": "code",
   "execution_count": 99,
   "id": "26835c07",
   "metadata": {},
   "outputs": [
    {
     "name": "stdout",
     "output_type": "stream",
     "text": [
      "Hugo\n",
      "Igor\n",
      "Yago\n"
     ]
    }
   ],
   "source": [
    "names = [\"Hugo\", \"Igor\", \"Yago\"]\n",
    "gerador = generate_name(names)\n",
    "print(next(gerador))\n",
    "print(next(gerador))\n",
    "print(next(gerador))\n",
    "# print(next(gerador)) StopIteration\n",
    "# Teria que recriar o gerador"
   ]
  },
  {
   "cell_type": "code",
   "execution_count": 100,
   "id": "ff3d6386",
   "metadata": {},
   "outputs": [],
   "source": [
    "# usando com list compression\n",
    "names_starts = [name for name in generate_name(names) if name.startswith(\"H\")]"
   ]
  },
  {
   "cell_type": "code",
   "execution_count": 101,
   "id": "bb1c2792",
   "metadata": {},
   "outputs": [
    {
     "data": {
      "text/plain": [
       "['Hugo']"
      ]
     },
     "execution_count": 101,
     "metadata": {},
     "output_type": "execute_result"
    }
   ],
   "source": [
    "# usando list compression e geradores para encontrar somente string que começam com H\n",
    "names_starts"
   ]
  },
  {
   "cell_type": "code",
   "execution_count": 102,
   "id": "d145d10a",
   "metadata": {},
   "outputs": [
    {
     "name": "stdout",
     "output_type": "stream",
     "text": [
      "0: Hugo\n",
      "1: Igor\n",
      "2: Yago\n"
     ]
    }
   ],
   "source": [
    "# função enumerate que retorna o indice e seu respectivo valor\n",
    "\n",
    "for indice, name in enumerate(names):\n",
    "    print(f\"{indice}: {name}\")"
   ]
  },
  {
   "cell_type": "markdown",
   "id": "6443a07f",
   "metadata": {},
   "source": [
    "# Aleatoridade"
   ]
  },
  {
   "cell_type": "code",
   "execution_count": 103,
   "id": "bcc1b686",
   "metadata": {},
   "outputs": [],
   "source": [
    "import random # biblioteca que gera números aleatorios\n",
    "\n",
    "random.seed(10) # para obter os mesmos resultados"
   ]
  },
  {
   "cell_type": "code",
   "execution_count": 104,
   "id": "79006bf0",
   "metadata": {},
   "outputs": [],
   "source": [
    "four_uniform_randoms = [random.random() for _ in range(4)] # metodo random() gera números uniformemente entre 0 e 1"
   ]
  },
  {
   "cell_type": "code",
   "execution_count": 105,
   "id": "a93fd46c",
   "metadata": {},
   "outputs": [
    {
     "data": {
      "text/plain": [
       "[0.5714025946899135,\n",
       " 0.4288890546751146,\n",
       " 0.5780913011344704,\n",
       " 0.20609823213950174]"
      ]
     },
     "execution_count": 105,
     "metadata": {},
     "output_type": "execute_result"
    }
   ],
   "source": [
    "four_uniform_randoms"
   ]
  },
  {
   "cell_type": "code",
   "execution_count": 106,
   "id": "d65b26c7",
   "metadata": {},
   "outputs": [
    {
     "data": {
      "text/plain": [
       "7"
      ]
     },
     "execution_count": 106,
     "metadata": {},
     "output_type": "execute_result"
    }
   ],
   "source": [
    "random.randrange(10) # metodo randrange escolhe um número aleatorio no range passado"
   ]
  },
  {
   "cell_type": "code",
   "execution_count": 107,
   "id": "51fcb9ba",
   "metadata": {},
   "outputs": [
    {
     "data": {
      "text/plain": [
       "2"
      ]
     },
     "execution_count": 107,
     "metadata": {},
     "output_type": "execute_result"
    }
   ],
   "source": [
    "random.randrange(1,4) # com dois parametros (inclusivo, exclusivo)"
   ]
  },
  {
   "cell_type": "code",
   "execution_count": 108,
   "id": "c4cd30cf",
   "metadata": {},
   "outputs": [],
   "source": [
    "list_int = [random.randint(1,10) for _ in range (6)] # metodo randint retorna um número inteiro de acordo com o intervalo\n",
    "# definido"
   ]
  },
  {
   "cell_type": "code",
   "execution_count": 109,
   "id": "f5aa200b",
   "metadata": {},
   "outputs": [
    {
     "data": {
      "text/plain": [
       "[3, 1, 9, 8, 6, 2]"
      ]
     },
     "execution_count": 109,
     "metadata": {},
     "output_type": "execute_result"
    }
   ],
   "source": [
    "list_int"
   ]
  },
  {
   "cell_type": "code",
   "execution_count": 110,
   "id": "113f1751",
   "metadata": {},
   "outputs": [
    {
     "data": {
      "text/plain": [
       "[6, 8, 2, 3, 9, 1]"
      ]
     },
     "execution_count": 110,
     "metadata": {},
     "output_type": "execute_result"
    }
   ],
   "source": [
    "# metodo shuffle reoderna aleatoriamente os elementos de uma lista\n",
    "\n",
    "random.shuffle(list_int)\n",
    "list_int"
   ]
  },
  {
   "cell_type": "code",
   "execution_count": 111,
   "id": "dd2c4cd0",
   "metadata": {},
   "outputs": [
    {
     "data": {
      "text/plain": [
       "9"
      ]
     },
     "execution_count": 111,
     "metadata": {},
     "output_type": "execute_result"
    }
   ],
   "source": [
    "# choice para escolher um elemento aleatorio dentro de uma lista\n",
    "\n",
    "random.choice(list_int)"
   ]
  },
  {
   "cell_type": "code",
   "execution_count": 112,
   "id": "a1d10e07",
   "metadata": {},
   "outputs": [
    {
     "data": {
      "text/plain": [
       "[22, 24, 26, 18, 43, 16]"
      ]
     },
     "execution_count": 112,
     "metadata": {},
     "output_type": "execute_result"
    }
   ],
   "source": [
    "# sample para escolher uma amosta de elementos sem repetição\n",
    "\n",
    "numbers = range(50)\n",
    "numbers_choice = random.sample(numbers, 6)\n",
    "numbers_choice"
   ]
  },
  {
   "cell_type": "code",
   "execution_count": 113,
   "id": "7b6b844b",
   "metadata": {},
   "outputs": [
    {
     "data": {
      "text/plain": [
       "[7, 2, 4, 5]"
      ]
     },
     "execution_count": 113,
     "metadata": {},
     "output_type": "execute_result"
    }
   ],
   "source": [
    "# escolhendo com repetição\n",
    "\n",
    "with_replacement = [random.choice(range(10)) for _ in range(4)]\n",
    "with_replacement"
   ]
  },
  {
   "cell_type": "markdown",
   "id": "3396e5c1",
   "metadata": {},
   "source": [
    "# Expressões Regulares"
   ]
  },
  {
   "cell_type": "code",
   "execution_count": 114,
   "id": "1af9fff4",
   "metadata": {},
   "outputs": [],
   "source": [
    "# são uma forma de procurar texto\n",
    "\n",
    "import re"
   ]
  },
  {
   "cell_type": "code",
   "execution_count": 115,
   "id": "6696a46b",
   "metadata": {},
   "outputs": [
    {
     "name": "stdout",
     "output_type": "stream",
     "text": [
      "True\n",
      "<re.Match object; span=(1, 2), match='a'>\n",
      "True\n"
     ]
    }
   ],
   "source": [
    "print(not re.match(\"h\", \"igor\")) # match verifica se inicio de uma string corresponde a alguma expressão regular\n",
    "print(re.search(\"a\", \"pao\"))\n",
    "print(not re.search(\"y\", \"igor\")) # search verifica se alguma parte da string corresponde a alguma expressão regular"
   ]
  },
  {
   "cell_type": "code",
   "execution_count": 116,
   "id": "c72c26ad",
   "metadata": {},
   "outputs": [
    {
     "data": {
      "text/plain": [
       "'Hugo Gabriel Silva Mendes'"
      ]
     },
     "execution_count": 116,
     "metadata": {},
     "output_type": "execute_result"
    }
   ],
   "source": [
    "name = \"Hugo Gabri3l Silva M3nd3s\"\n",
    "name_format = re.sub(\"[0-9]\", \"e\", name)\n",
    "name_format \n",
    "# metodo sub substitui caracteres que voce deseja por outro"
   ]
  },
  {
   "cell_type": "markdown",
   "id": "ba5788a5",
   "metadata": {},
   "source": [
    "# Zip e descompactação de argumento"
   ]
  },
  {
   "cell_type": "code",
   "execution_count": 117,
   "id": "b198073e",
   "metadata": {},
   "outputs": [],
   "source": [
    "# muitas vezes teremos que zipar (compactar) duas ou mais listas\n",
    "information = [\"Hugo\",20,\"M\"]\n",
    "dates = [\"Name\",\"Age\",\"Sex\"]"
   ]
  },
  {
   "cell_type": "code",
   "execution_count": 118,
   "id": "1520e82a",
   "metadata": {},
   "outputs": [
    {
     "data": {
      "text/plain": [
       "[('Name', 'Hugo'), ('Age', 20), ('Sex', 'M')]"
      ]
     },
     "execution_count": 118,
     "metadata": {},
     "output_type": "execute_result"
    }
   ],
   "source": [
    "pairs = [pair for pair in zip(dates, information)]\n",
    "pairs"
   ]
  },
  {
   "cell_type": "code",
   "execution_count": 119,
   "id": "5508668e",
   "metadata": {},
   "outputs": [
    {
     "data": {
      "text/plain": [
       "[('Name', 'Age', 'Sex'), ('Hugo', 20, 'M')]"
      ]
     },
     "execution_count": 119,
     "metadata": {},
     "output_type": "execute_result"
    }
   ],
   "source": [
    "list(zip(*pairs)) # o asterisco (*) executa a descompactação do argumento"
   ]
  },
  {
   "cell_type": "code",
   "execution_count": 120,
   "id": "a41daaff",
   "metadata": {},
   "outputs": [
    {
     "data": {
      "text/plain": [
       "3"
      ]
     },
     "execution_count": 120,
     "metadata": {},
     "output_type": "execute_result"
    }
   ],
   "source": [
    "def add (a,b): return a + b\n",
    "add(1,2)"
   ]
  },
  {
   "cell_type": "code",
   "execution_count": 121,
   "id": "d8aed60d",
   "metadata": {},
   "outputs": [
    {
     "name": "stdout",
     "output_type": "stream",
     "text": [
      "add() missing 1 required positional argument: 'b'\n"
     ]
    },
    {
     "data": {
      "text/plain": [
       "3"
      ]
     },
     "execution_count": 121,
     "metadata": {},
     "output_type": "execute_result"
    }
   ],
   "source": [
    "try:\n",
    "    add([1,2])\n",
    "except Exception as er:\n",
    "    print(f\"{er}\")\n",
    "add(*[1,2])"
   ]
  },
  {
   "cell_type": "markdown",
   "id": "d1198c0d",
   "metadata": {},
   "source": [
    "# Args e Kwargs"
   ]
  },
  {
   "cell_type": "code",
   "execution_count": 122,
   "id": "8e631d7b",
   "metadata": {},
   "outputs": [
    {
     "data": {
      "text/plain": [
       "(4, (1, 2, 3, 'Hugo'))"
      ]
     },
     "execution_count": 122,
     "metadata": {},
     "output_type": "execute_result"
    }
   ],
   "source": [
    "def a (*args):\n",
    "    return len(args), args\n",
    "a(1,2,3,\"Hugo\")\n",
    "# usa-se o args quando não sabemos quantos argumentos vão ser passados na função"
   ]
  },
  {
   "cell_type": "code",
   "execution_count": 123,
   "id": "875aef0a",
   "metadata": {},
   "outputs": [
    {
     "data": {
      "text/plain": [
       "(4, dict_items([('a', 1), ('b', 2), ('c', 3), ('d', 'Igor')]))"
      ]
     },
     "execution_count": 123,
     "metadata": {},
     "output_type": "execute_result"
    }
   ],
   "source": [
    "def b (**kwars):\n",
    "    return len(kwars), kwars.items()\n",
    "b(a=1,b=2,c=3,d=\"Igor\")\n",
    "# kwargs semelhante ao args porém você passa o argumentos com keyword(nome)"
   ]
  },
  {
   "cell_type": "code",
   "execution_count": 124,
   "id": "8261b52d",
   "metadata": {},
   "outputs": [],
   "source": [
    "# args é tratado como uma tupla\n",
    "# kwargs é trato como dicionário"
   ]
  }
 ],
 "metadata": {
  "kernelspec": {
   "display_name": "Python 3 (ipykernel)",
   "language": "python",
   "name": "python3"
  },
  "language_info": {
   "codemirror_mode": {
    "name": "ipython",
    "version": 3
   },
   "file_extension": ".py",
   "mimetype": "text/x-python",
   "name": "python",
   "nbconvert_exporter": "python",
   "pygments_lexer": "ipython3",
   "version": "3.9.21"
  }
 },
 "nbformat": 4,
 "nbformat_minor": 5
}
